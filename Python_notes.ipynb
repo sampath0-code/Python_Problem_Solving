{
  "nbformat": 4,
  "nbformat_minor": 0,
  "metadata": {
    "colab": {
      "provenance": [],
      "toc_visible": true,
      "authorship_tag": "ABX9TyOACevoPHpluIlLHF7VLKxS",
      "include_colab_link": true
    },
    "kernelspec": {
      "name": "python3",
      "display_name": "Python 3"
    },
    "language_info": {
      "name": "python"
    }
  },
  "cells": [
    {
      "cell_type": "markdown",
      "metadata": {
        "id": "view-in-github",
        "colab_type": "text"
      },
      "source": [
        "<a href=\"https://colab.research.google.com/github/sampath0-code/Python_Problem_Solving/blob/main/Python_notes.ipynb\" target=\"_parent\"><img src=\"https://colab.research.google.com/assets/colab-badge.svg\" alt=\"Open In Colab\"/></a>"
      ]
    },
    {
      "cell_type": "markdown",
      "source": [
        "# Classes and Objects :     \n",
        "\n",
        "Python is an object oriented programming language.\n",
        "\n",
        "Almost everything in Python is an object, with its properties and methods.\n",
        "\n",
        "A Class is like an object constructor, or a \"blueprint\" for creating objects."
      ],
      "metadata": {
        "id": "C56GTcrUndz0"
      }
    },
    {
      "cell_type": "code",
      "source": [],
      "metadata": {
        "id": "fCDyog0J4pLz"
      },
      "execution_count": null,
      "outputs": []
    },
    {
      "cell_type": "markdown",
      "source": [
        "# Object Vs Instance\n",
        "[link:](https://www.quora.com/What-is-the-difference-between-object-and-instance)\n",
        "Difference between object and instances in python \n",
        "\n",
        "Object Oriented programming can be a bit confusing at times as there are concepts with very minute differences . The worst thing is that the more you read,the more you get confused as 100 people have 100 interpretation of same concepts.\n",
        "\n",
        "When you can verify something physically and explain it in simplest possible explanation , that concept can be said to be cleared.\n",
        "\n",
        "Coming back to question , Objects and Instances are almost similar and are often used interchangeably but with a small difference.\n",
        "\n",
        "Lets take a Story . Suppose You are God and You are given the task to make a new species called Males . So you start designing your species . All the males will have hands , legs , eyes , nose etc. These features/state can be called as attributes / properties . All males can run , walk , talk eat etc. These are the behaviours/functions of males and can be called as Methods.\n",
        "\n",
        "Once you have designed the properties and behaviours of your new species , Your class is ready . So basically Class is a design on paper ( a blueprint) that how the males would look and how would they behave.\n",
        "\n",
        "Males don’t exist in reality so far , they are just a concept.\n",
        "\n",
        "Now God started making Males in reality (Physical manifestation) . So he started looking at the blue print and created a male . When he created a male in reality , that male needs to have a space to live , so a space on Earth is reserved for that male to live.\n",
        "\n",
        "Here the act of making physical manifestation , the act of making a male is creating objects from the class . The act of giving the space to male is creating a memory for the object.\n",
        "\n",
        "Now there is a small problem encountered by god , he can create n numbers of males all identical and give them space on earth to live but how can you identify and differentiate them.\n",
        "\n",
        "What if the God wants one of those males to do something . How will he command ? How will he refer him ?\n",
        "\n",
        "Here comes the concept of Instances . He took one of the males and gave him a name Nobita . So now that object (male) has a reference called Nobita . The location given to him to live can be said as Nobita’s location.\n",
        "\n",
        "Object is a generic term , it is physically present but remains undiferrentiated . Instance is something that gives them a separate identity.\n",
        "\n",
        "Talking in terms of Code (in Python )\n",
        "\n",
        "When we create an Object ; ex:\n",
        "\n",
        "Nobita = Males(“blank”,0)\n",
        "\n",
        "Here when you write Males(..) , an object is created and the name which refers to that object (Nobita) is called an instance of that object."
      ],
      "metadata": {
        "id": "dSwSmHpA30pC"
      }
    },
    {
      "cell_type": "code",
      "source": [],
      "metadata": {
        "id": "BzkRrka9nn6z"
      },
      "execution_count": null,
      "outputs": []
    },
    {
      "cell_type": "markdown",
      "source": [
        "# __call__ in Python"
      ],
      "metadata": {
        "id": "dfyQAmwZnp1T"
      }
    },
    {
      "cell_type": "markdown",
      "source": [
        "Python has a set of built-in methods and __call__ is one of them. The __call__ method enables Python programmers to write classes where the instances behave like functions and can be called like a function. When the instance is called as a function; if this method is defined, x(arg1, arg2, ...) is a shorthand for x.__call__(arg1, arg2, ...)."
      ],
      "metadata": {
        "id": "_hhH7V_jn3uL"
      }
    },
    {
      "cell_type": "code",
      "source": [
        "#object() is shorthand for object.__call__()\n",
        "class Example:\n",
        "\tdef __init__(self):\n",
        "\t\tprint(\"Instance Created\")\n",
        "\t\n",
        "\t# Defining __call__ method\n",
        "\tdef __call__(self):\n",
        "\t\tprint(\"Instance is called via special method\")\n",
        "\n",
        "# Instance created\n",
        "e = Example()\n",
        "\n",
        "# __call__ method will be called\n",
        "e()\n"
      ],
      "metadata": {
        "id": "hzg4mwTqnyqi"
      },
      "execution_count": null,
      "outputs": []
    },
    {
      "cell_type": "code",
      "source": [
        "class God:\n",
        "  def __init__(human):\n",
        "    print('creating human')\n",
        "\n",
        "  def __call__(human,a,b):\n",
        "    human.gender = a\n",
        "    human.name = b\n",
        "    print(human.gender,human.name)\n",
        "        # OR we don't need above 3 lines code simple give the arguments in the print statement\n",
        "    print(a,b)\n",
        "human = God()\n",
        "human('Male',\"sampath\")"
      ],
      "metadata": {
        "colab": {
          "base_uri": "https://localhost:8080/"
        },
        "id": "tKeClAUnnhTr",
        "outputId": "71dca0ea-5e09-4564-a03d-c73e276bf1c5"
      },
      "execution_count": 8,
      "outputs": [
        {
          "output_type": "stream",
          "name": "stdout",
          "text": [
            "creating human\n",
            "Male sampath\n",
            "Male sampath\n"
          ]
        }
      ]
    },
    {
      "cell_type": "code",
      "source": [],
      "metadata": {
        "id": "X8LGBFODndpt"
      },
      "execution_count": null,
      "outputs": []
    },
    {
      "cell_type": "markdown",
      "source": [
        "#Random module\n"
      ],
      "metadata": {
        "id": "cgXvp-yZ8ePb"
      }
    },
    {
      "cell_type": "markdown",
      "source": [
        "Python does not have a random() function to make a random number, but Python has a built-in module called random that can be used to make random numbers.\n",
        "\n",
        "\n",
        "Python has a built-in module that you can use to make random numbers.\n",
        "\n",
        "The random module has a set of methods:\n",
        "\n",
        "\n",
        "Method:    Description\n",
        "\n",
        "seed() : Initialize the random number generator\n",
        "\n",
        "getstate() :\tReturns the current internal state of the random number generator\n",
        "\n",
        "setstate() : Restores the internal state of the random number generator\n",
        "\n",
        "getrandbits()\t: Returns a number representing the random bits\n",
        "\n",
        "randrange() :\tReturns a random number between the given range\n",
        "\n",
        "randint() :\tReturns a random number between the given range\n",
        "\n",
        "choice() :\tReturns a random element from the given sequence\n",
        "\n",
        "choices() :\tReturns a list with a random selection from the given sequence\n",
        "\n",
        "shuffle() :\tTakes a sequence and returns the sequence in a random order\n",
        "\n",
        "sample() :\tReturns a given sample of a sequence\n",
        "\n",
        "random() :\tReturns a random float number between 0 and 1\n",
        "\n",
        "uniform() :\tReturns a random float number between two given parameters\n",
        "\n",
        "triangular() :\tReturns a random float number between two given parameters, you can also set a mode parameter to specify the midpoint between the two other parameters\n",
        "\n",
        "betavariate() :\tReturns a random float number between 0 and 1 based on the Beta distribution (used in statistics)\n",
        "\n",
        "expovariate() :\tReturns a random float number based on the Exponential distribution (used in statistics)\n",
        "\n",
        "gammavariate() :\tReturns a random float number based on the Gamma distribution (used in statistics)\n",
        "\n",
        "gauss() :\tReturns a random float number based on the Gaussian distribution (used in probability theories)\n",
        "\n",
        "lognormvariate() :\tReturns a random float number based on a log-normal distribution (used in probability theories)\n",
        "\n",
        "normalvariate() :\tReturns a random float number based on the normal distribution (used in probability theories)\n",
        "\n",
        "vonmisesvariate() :\tReturns a random float number based on the von Mises distribution (used in directional statistics)\n",
        "\n",
        "paretovariate() :\tReturns a random float number based on the Pareto distribution (used in probability theories)\n",
        "\n",
        "weibullvariate() : Returns a random float number based on the Weibull distribution (used in statistics)"
      ],
      "metadata": {
        "id": "O2FwTRp2XfGx"
      }
    },
    {
      "cell_type": "code",
      "execution_count": null,
      "metadata": {
        "id": "MVMfqkHR8Vpc"
      },
      "outputs": [],
      "source": []
    },
    {
      "cell_type": "markdown",
      "source": [
        "# Dunder methods or Magic methods in python"
      ],
      "metadata": {
        "id": "WrlgHX498jv4"
      }
    },
    {
      "cell_type": "markdown",
      "source": [
        "Dunder or magic methods in Python are the methods having two prefix and suffix underscores in the method name. Dunder here means “Double Under (Underscores)”. These are commonly **used for operator overloading**. Few examples for magic methods are: __init__, __add__, __len__, __repr__ etc.\n",
        "\n",
        "The __init__ method for initialization is invoked without any call, when an instance of a class is created, like constructors in certain other programming languages such as C++, Java, C#, PHP etc. These methods are the reason we can add two strings with ‘+’ operator without any explicit typecasting.\n",
        "\n",
        "[Geeksforgeeks](https://www.geeksforgeeks.org/dunder-magic-methods-python/)\n",
        "\n",
        "[Python Documentation](https://docs.python.org/3/reference/datamodel.html#special-method-names)\n"
      ],
      "metadata": {
        "id": "OOgJAr2Z8206"
      }
    },
    {
      "cell_type": "code",
      "source": [],
      "metadata": {
        "id": "g9OluSYF80NL"
      },
      "execution_count": null,
      "outputs": []
    }
  ]
}